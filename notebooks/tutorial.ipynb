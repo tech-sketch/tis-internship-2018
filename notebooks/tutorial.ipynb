{
 "cells": [
  {
   "cell_type": "markdown",
   "metadata": {
    "collapsed": true
   },
   "source": [
    "# データの探索とベンチマークの作成\n",
    "このチュートリアルでは、アスペクトベース評価分析のデータセットを用いて、評価分析を行う機械学習モデルを構築します。まず評価分析に用いるデータセットを探索し、理解を深めます。次に、探索したデータセットを用いて、ベースラインとなる機械学習モデルを作成します。\n",
    "\n",
    "では、必要なPythonモジュールをインポートしましょう。"
   ]
  },
  {
   "cell_type": "code",
   "execution_count": 1,
   "metadata": {},
   "outputs": [],
   "source": [
    "import os\n",
    "import json\n",
    "import glob\n",
    "\n",
    "import pandas as pd\n",
    "import seaborn as sns\n",
    "import matplotlib as plt\n",
    "# plt.rcParams['font.family'] = 'IPAexGothic'  # japanese font"
   ]
  },
  {
   "cell_type": "markdown",
   "metadata": {
    "collapsed": true
   },
   "source": [
    "## データセットの読み込み\n",
    "今回は評判分析のデータセットとして[chABSA-dataset](https://github.com/chakki-works/chABSA-dataset)を用いることにします。chABSA-datasetは企業の有価証券報告書に対して、各文に含まれるエンティティごとに評価情報を付与したデータセットです。[こちら](https://storage.googleapis.com/chakki/datasets/public/chABSA/chABSA-dataset.zip)からダウンロードして、`data`ディレクトリに展開してください。\n",
    "\n",
    "データセットを探索して、理解を深めましょう。そのために、ダウンロードしたデータセットを読み込みます。"
   ]
  },
  {
   "cell_type": "code",
   "execution_count": 3,
   "metadata": {
    "scrolled": true
   },
   "outputs": [
    {
     "data": {
      "text/plain": [
       "{'header': {'category17': '食品',\n  'category33': '水産・農林業',\n  'doc_text': '有価証券報告書',\n  'document_id': 'E00008',\n  'document_name': 'ホクト株式会社',\n  'edi_id': 'E00008',\n  'scale': '6',\n  'security_code': '13790'},\n 'sentences': [{'opinions': [{'category': 'NULL#general',\n     'from': 11,\n     'polarity': 'neutral',\n     'target': 'わが国経済',\n     'to': 16},\n    {'category': 'NULL#general',\n     'from': 38,\n     'polarity': 'positive',\n     'target': '企業業績',\n     'to': 42},\n    {'category': 'NULL#general',\n     'from': 43,\n     'polarity': 'positive',\n     'target': '雇用',\n     'to': 45},\n    {'category': 'NULL#general',\n     'from': 46,\n     'polarity': 'positive',\n     'target': '所得環境',\n     'to': 50},\n    {'category': 'NULL#general',\n     'from': 55,\n     'polarity': 'positive',\n     'target': '景気',\n     'to': 57}],\n   'sentence': '当連結会計年度におけるわが国経済は、政府の経済政策や日銀の金融緩和策により、企業業績、雇用・所得環境は改善し、景気も緩やかな回復基調のうちに推移いたしましたが、中国をはじめとするアジア新興国経済の減速懸念や、英国の欧州連合（ＥＵ）離脱決定、米国新政権への移行など、引き続き先行きは不透明な状況となっております',\n   'sentence_id': 0},\n  {'opinions': [{'category': 'NULL#general',\n     'from': 11,\n     'polarity': 'negative',\n     'target': '環境',\n     'to': 13},\n    {'category': 'NULL#general',\n     'from': 15,\n     'polarity': 'negative',\n     'target': '実質賃金',\n     'to': 19},\n    {'category': 'NULL#general',\n     'from': 53,\n     'polarity': 'negative',\n     'target': '個人消費',\n     'to': 57},\n    {'category': 'NULL#cost',\n     'from': 100,\n     'polarity': 'negative',\n     'target': '労働コスト',\n     'to': 105},\n    {'category': 'NULL#general',\n     'from': 109,\n     'polarity': 'negative',\n     'target': '企業間競争',\n     'to': 114}],\n   'sentence': '当社グループを取り巻く環境は、実質賃金が伸び悩むなか、消費者の皆様の生活防衛意識の高まりや節約志向により、個人消費は本格的な改善には至らず、また少子高齢化、人口減少による社会構造の変化、雇用改善に伴う労働コストの上昇、企業間競争の激化など、引き続き厳しい状況となりました',\n   'sentence_id': 1},\n  {'opinions': [],\n   'sentence': 'このような環境の中、当社グループはきのこ事業を中心として、健康食材である「きのこ」の研究開発、生産、販売を通して、より多くの皆様へ、おいしさと健康をお届けできるよう事業活動を行ってまいりました',\n   'sentence_id': 2},\n  {'opinions': [],\n   'sentence': 'また、平成26年に策定いたしました中期経営計画の見直しを行い、市況に左右されない事業ポートフォリオの構築を目指した活動を推進し、おいしくて健康な「きのこ食文化の創造」と「企業の発展」に向け邁進してまいりました',\n   'sentence_id': 3},\n  {'opinions': [{'category': 'company#sales',\n     'from': 14,\n     'polarity': 'positive',\n     'target': '当社グループ',\n     'to': 20},\n    {'category': 'company#profit',\n     'from': 14,\n     'polarity': 'positive',\n     'target': '当社グループ',\n     'to': 20}],\n   'sentence': '以上の結果、当連結会計年度の当社グループの業績は、売上高631億19百万円（前期比3.5％増）、営業利益34億30百万円（前期比0.1％増）、経常利益43億79百万円（前期比7.5％増）、親会社株主に帰属する当期純利益は28億28百万円（前期比8.9％増）となりました',\n   'sentence_id': 4},\n  {'opinions': [{'category': 'product#amount',\n     'from': 23,\n     'polarity': 'positive',\n     'target': 'ブナシメジ',\n     'to': 28},\n    {'category': 'product#amount',\n     'from': 44,\n     'polarity': 'negative',\n     'target': 'エリンギ',\n     'to': 48},\n    {'category': 'product#amount',\n     'from': 64,\n     'polarity': 'positive',\n     'target': 'マイタケ',\n     'to': 68}],\n   'sentence': 'なお、当連結会計年度の生産量は、ブナピーを含めブナシメジ42,602ｔ（同5.5％増）、エリンギ19,250ｔ（同0.2％減）、マイタケ14,281ｔ（同4.3％増）となりました',\n   'sentence_id': 5},\n  {'opinions': [],\n   'sentence': '当連結会計年度の各セグメントの概況は次のとおりであります',\n   'sentence_id': 6},\n  {'opinions': [], 'sentence': '「国内きのこ事業」', 'sentence_id': 7},\n  {'opinions': [],\n   'sentence': '生産部門におきましては、衛生管理を徹底し、安定栽培と品質の向上に努めてまいりました',\n   'sentence_id': 8},\n  {'opinions': [{'category': 'product#amount',\n     'from': 131,\n     'polarity': 'positive',\n     'target': 'ブナシメジ',\n     'to': 136}],\n   'sentence': '平成27年４月の火災により生産を休止していた苫小牧第一きのこセンターが、工場を再建し、平成28年４月27日よりブナシメジの収穫・出荷を再開したことや、カットブナシメジ専用工場として新設した富山きのこセンターが平成28年９月上旬から収穫・出荷を開始したことにより、ブナシメジの生産量は増加いたしました',\n   'sentence_id': 9},\n  {'opinions': [{'category': 'product#amount',\n     'from': 75,\n     'polarity': 'positive',\n     'target': 'きのこ',\n     'to': 78}],\n   'sentence': 'また、改修のため一時生産を休止しておりました広川きのこセンターにおきまして、平成28年９月上旬より霜降りひらたけの収穫・出荷を開始したことなどにより、きのこ全体の生産量は増加いたしました',\n   'sentence_id': 10},\n  {'opinions': [],\n   'sentence': '研究部門におきましては、品質管理体制の強化、付加価値の高い新商品の開発およびきのこの薬理効果や機能性の追求に取り組んでまいりました',\n   'sentence_id': 11},\n  {'opinions': [],\n   'sentence': '特に、平成27年７月に完成したシイタケ栽培技術研究施設におきまして、シイタケの大量・安定栽培に向けた研究に注力いたしました',\n   'sentence_id': 12},\n  {'opinions': [],\n   'sentence': '営業部門におきましては、鮮度に拘った営業活動を行う一方、きのこによる健康と美容価値の創出が消費に結びつくものとして、引き続き「菌活」の提唱を行い、消費の拡大に努めてまいりました',\n   'sentence_id': 13},\n  {'opinions': [{'category': 'product#price',\n     'from': 24,\n     'polarity': 'negative',\n     'target': 'きのこ',\n     'to': 27},\n    {'category': 'NULL#general',\n     'from': 11,\n     'polarity': 'negative',\n     'target': '個人消費',\n     'to': 15}],\n   'sentence': '春から夏にかけましては個人消費の低迷などにより、きのこの価格は厳しい状況で推移いたしました',\n   'sentence_id': 14},\n  {'opinions': [{'category': 'NULL#price',\n     'from': 23,\n     'polarity': 'positive',\n     'target': '野菜価格',\n     'to': 27},\n    {'category': 'product#price',\n     'from': 34,\n     'polarity': 'positive',\n     'target': 'きのこ',\n     'to': 37}],\n   'sentence': '反面、秋から冬にかけましては天候不順などによる野菜価格の高騰により、きのこの価格は堅調に推移いたしました',\n   'sentence_id': 15},\n  {'opinions': [{'category': 'business#sales',\n     'from': 6,\n     'polarity': 'positive',\n     'target': '国内きのこ事業',\n     'to': 13}],\n   'sentence': '以上の結果、国内きのこ事業全体の売上高は422億96百万円（同3.1％増）となりました',\n   'sentence_id': 16},\n  {'opinions': [], 'sentence': '「海外きのこ事業」', 'sentence_id': 17},\n  {'opinions': [{'category': 'business#amount',\n     'from': 0,\n     'polarity': 'positive',\n     'target': '海外きのこ事業',\n     'to': 7},\n    {'category': 'company#general',\n     'from': 15,\n     'polarity': 'positive',\n     'target': '各子会社',\n     'to': 19}],\n   'sentence': '海外きのこ事業におきましては、各子会社が稼働率を高めたことにより、生産量は増加いたしました',\n   'sentence_id': 18},\n  {'opinions': [{'category': 'company#general',\n     'from': 8,\n     'polarity': 'negative',\n     'target': '台灣北斗生技股份有限公司',\n     'to': 20},\n    {'category': 'NULL#general',\n     'from': 64,\n     'polarity': 'negative',\n     'target': '企業間競争',\n     'to': 69}],\n   'sentence': '台湾の現地法人「台灣北斗生技股份有限公司」におきましては、ブランドの構築、企画提案などに力を入れ販売活動を行ってまいりましたが、企業間競争の激化により厳しい状況で推移いたしました',\n   'sentence_id': 19},\n  {'opinions': [],\n   'sentence': '米国の現地法人「HOKTO KINOKO COMPANY」におきましては、引き続き非アジア系顧客の開拓に注力し、販売の拡大を目指すとともに、欧州でのマーケティング活動も引き続き行ってまいりました',\n   'sentence_id': 20},\n  {'opinions': [],\n   'sentence': 'マレーシアの現地法人「HOKTO MALAYSIA SDN. BHD.」におきましては、マレーシア国内に限らず、広く東南アジアのマーケットでの販売を展開してまいりました',\n   'sentence_id': 21},\n  {'opinions': [],\n   'sentence': 'また、当社では新たな販路の開拓を目的として、東南アジア地域の市場調査・情報収集活動を強化するため、平成28年７月にタイ・バンコクに駐在員事務所を開設いたしました',\n   'sentence_id': 22},\n  {'opinions': [{'category': 'business#sales',\n     'from': 6,\n     'polarity': 'positive',\n     'target': '海外きのこ事業',\n     'to': 13}],\n   'sentence': '以上の結果、海外きのこ事業全体の売上高は45億12百万円（同1.4％増）となりました',\n   'sentence_id': 23},\n  {'opinions': [], 'sentence': '「加工品事業」', 'sentence_id': 24},\n  {'opinions': [],\n   'sentence': '加工品事業におきましては、水煮・冷凍などのアイテムやレトルト食品など加工品の販売を行っております',\n   'sentence_id': 25},\n  {'opinions': [],\n   'sentence': 'その中で新しいアイテムの開発とさらなる市場開拓を行ってまいりました',\n   'sentence_id': 26},\n  {'opinions': [],\n   'sentence': '一方、自社きのこを活用した新商品の開発および健康食品・レトルト食品を中心とした販売活動にも注力するとともに、一部商品におきましては通販事業による一般の消費者の皆様への直接販売にも力を入れてまいりました',\n   'sentence_id': 27},\n  {'opinions': [{'category': 'product#general',\n     'from': 23,\n     'polarity': 'positive',\n     'target': 'ＯＥＭ製品',\n     'to': 28}],\n   'sentence': 'また、子会社の株式会社アーデンにおきましては、ＯＥＭ製品が好調に推移いたしました',\n   'sentence_id': 28},\n  {'opinions': [{'category': 'business#sales',\n     'from': 6,\n     'polarity': 'positive',\n     'target': '加工品事業',\n     'to': 11}],\n   'sentence': '以上の結果、加工品事業の売上高は70億64百万円（同15.5％増）となりました',\n   'sentence_id': 29},\n  {'opinions': [], 'sentence': '「化成品事業」', 'sentence_id': 30},\n  {'opinions': [{'category': 'NULL#general',\n     'from': 20,\n     'polarity': 'negative',\n     'target': '販売環境',\n     'to': 24}],\n   'sentence': '化成品事業におきましては、引き続き厳しい販売環境にありましたが、中核である包装資材部門におきましては、効率化・利益率の改善を図るため営業戦略を見直し、販売強化に注力してまいりました',\n   'sentence_id': 31},\n  {'opinions': [],\n   'sentence': '農業資材部門におきましては、資材の提供だけではなく、きめ細やかなサポートを強化してまいりました',\n   'sentence_id': 32},\n  {'opinions': [],\n   'sentence': '新規戦略本部におきましては、一昨年より自社製品の販売を一つの柱にすべく営業活動を展開しております',\n   'sentence_id': 33},\n  {'opinions': [],\n   'sentence': '新規販路の開拓と既存製品拡販に対応するため製造能力を旧工場の３倍にアップした新工場を長野市豊野に建設し、平成28年９月から稼働を開始いたしました',\n   'sentence_id': 34},\n  {'opinions': [{'category': 'business#sales',\n     'from': 6,\n     'polarity': 'negative',\n     'target': '化成品事業',\n     'to': 11}],\n   'sentence': '以上の結果、化成品事業の売上高は92億45百万円（同1.7％減）となりました',\n   'sentence_id': 35}]}"
      ]
     },
     "execution_count": 3,
     "metadata": {},
     "output_type": "execute_result"
    }
   ],
   "source": [
    "documents = []\n",
    "\n",
    "json_files = glob.glob('./data/chABSA-dataset/*.json')\n",
    "for json_file in json_files:\n",
    "    with open(json_file) as f:\n",
    "        documents.append(json.load(f))\n",
    "        \n",
    "documents[0]"
   ]
  },
  {
   "cell_type": "markdown",
   "metadata": {},
   "source": [
    "上記のコードを実行すると、ダウンロードしたデータを読み込み、そのうちの一件を表示します。一件のデータは一つの有価証券報告書を表しています。有価証券報告書を文単位に分解したものが`sentences`の中に入っています。各文には複数のエンティティが含まれています。`opinions`の中に、文内に含まれるエンティティ(`target`)、属性(`category`)、評価(`polarity`)が含まれています。**評価が文単位ではなく、エンティティ単位でついていることに注意してください。**\n",
    "\n",
    "各項目に関する定義は[アノテーション定義書](https://github.com/chakki-works/chABSA-dataset/tree/master/annotation/doc)を御覧ください。\n",
    "\n",
    "このチュートリアルでは各文に対してその評価を予測します。しかし、データセットでは文単位の評価はアノテーションされていません。ここでは文単位の評価を得るために、文中に含まれる各エンティティに対する評価の和が`0`より大きかったら`positive`、`0`より小さかったら`negative`となるようにデータセットを変換します。"
   ]
  },
  {
   "cell_type": "code",
   "execution_count": 4,
   "metadata": {},
   "outputs": [
    {
     "data": {
      "text/html": [
       "<div>\n",
       "<style scoped>\n",
       "    .dataframe tbody tr th:only-of-type {\n",
       "        vertical-align: middle;\n",
       "    }\n",
       "\n",
       "    .dataframe tbody tr th {\n",
       "        vertical-align: top;\n",
       "    }\n",
       "\n",
       "    .dataframe thead th {\n",
       "        text-align: right;\n",
       "    }\n",
       "</style>\n",
       "<table border=\"1\" class=\"dataframe\">\n",
       "  <thead>\n",
       "    <tr style=\"text-align: right;\">\n",
       "      <th></th>\n",
       "      <th>label</th>\n",
       "      <th>category</th>\n",
       "      <th>sent</th>\n",
       "    </tr>\n",
       "  </thead>\n",
       "  <tbody>\n",
       "    <tr>\n",
       "      <th>0</th>\n",
       "      <td>1</td>\n",
       "      <td>食品</td>\n",
       "      <td>当連結会計年度におけるわが国経済は、政府の経済政策や日銀の金融緩和策により、企業業績、雇用・...</td>\n",
       "    </tr>\n",
       "    <tr>\n",
       "      <th>1</th>\n",
       "      <td>0</td>\n",
       "      <td>食品</td>\n",
       "      <td>当社グループを取り巻く環境は、実質賃金が伸び悩むなか、消費者の皆様の生活防衛意識の高まりや節...</td>\n",
       "    </tr>\n",
       "    <tr>\n",
       "      <th>2</th>\n",
       "      <td>1</td>\n",
       "      <td>食品</td>\n",
       "      <td>以上の結果、当連結会計年度の当社グループの業績は、売上高631億19百万円（前期比3.5％増...</td>\n",
       "    </tr>\n",
       "    <tr>\n",
       "      <th>3</th>\n",
       "      <td>1</td>\n",
       "      <td>食品</td>\n",
       "      <td>なお、当連結会計年度の生産量は、ブナピーを含めブナシメジ42,602ｔ（同5.5％増）、エリ...</td>\n",
       "    </tr>\n",
       "    <tr>\n",
       "      <th>4</th>\n",
       "      <td>1</td>\n",
       "      <td>食品</td>\n",
       "      <td>平成27年４月の火災により生産を休止していた苫小牧第一きのこセンターが、工場を再建し、平成2...</td>\n",
       "    </tr>\n",
       "  </tbody>\n",
       "</table>\n",
       "</div>"
      ],
      "text/plain": [
       "<div>\n",
       "<style scoped>\n",
       "    .dataframe tbody tr th:only-of-type {\n",
       "        vertical-align: middle;\n",
       "    }\n",
       "\n",
       "    .dataframe tbody tr th {\n",
       "        vertical-align: top;\n",
       "    }\n",
       "\n",
       "    .dataframe thead th {\n",
       "        text-align: right;\n",
       "    }\n",
       "</style>\n",
       "<table border=\"1\" class=\"dataframe\">\n",
       "  <thead>\n",
       "    <tr style=\"text-align: right;\">\n",
       "      <th></th>\n",
       "      <th>label</th>\n",
       "      <th>category</th>\n",
       "      <th>sent</th>\n",
       "    </tr>\n",
       "  </thead>\n",
       "  <tbody>\n",
       "    <tr>\n",
       "      <th>0</th>\n",
       "      <td>1</td>\n",
       "      <td>食品</td>\n",
       "      <td>当連結会計年度におけるわが国経済は、政府の経済政策や日銀の金融緩和策により、企業業績、雇用・...</td>\n",
       "    </tr>\n",
       "    <tr>\n",
       "      <th>1</th>\n",
       "      <td>0</td>\n",
       "      <td>食品</td>\n",
       "      <td>当社グループを取り巻く環境は、実質賃金が伸び悩むなか、消費者の皆様の生活防衛意識の高まりや節...</td>\n",
       "    </tr>\n",
       "    <tr>\n",
       "      <th>2</th>\n",
       "      <td>1</td>\n",
       "      <td>食品</td>\n",
       "      <td>以上の結果、当連結会計年度の当社グループの業績は、売上高631億19百万円（前期比3.5％増...</td>\n",
       "    </tr>\n",
       "    <tr>\n",
       "      <th>3</th>\n",
       "      <td>1</td>\n",
       "      <td>食品</td>\n",
       "      <td>なお、当連結会計年度の生産量は、ブナピーを含めブナシメジ42,602ｔ（同5.5％増）、エリ...</td>\n",
       "    </tr>\n",
       "    <tr>\n",
       "      <th>4</th>\n",
       "      <td>1</td>\n",
       "      <td>食品</td>\n",
       "      <td>平成27年４月の火災により生産を休止していた苫小牧第一きのこセンターが、工場を再建し、平成2...</td>\n",
       "    </tr>\n",
       "  </tbody>\n",
       "</table>\n",
       "</div>"
      ]
     },
     "execution_count": 4,
     "metadata": {},
     "output_type": "execute_result"
    }
   ],
   "source": [
    "def get_dataset_for_analysis(documents):\n",
    "        dataset = {'label': [], 'category': [], 'sent': []}\n",
    "        for d in documents:\n",
    "            \n",
    "            conv = {'negative': -1, 'positive': 1, 'neutral': 0}\n",
    "            for sent in d['sentences']:\n",
    "                sentiment = sum(conv[opinion['polarity']] for opinion in sent['opinions'])\n",
    "                if sentiment == 0:  # neutral\n",
    "                    continue\n",
    "                dataset['label'].append(0 if sentiment < 0 else 1)\n",
    "                dataset['category'].append(d['header']['category17'])\n",
    "                dataset['sent'].append(sent['sentence'])\n",
    "            \n",
    "        dataset = pd.DataFrame(dataset, columns=['label', 'category', 'sent'])\n",
    "        return dataset\n",
    "    \n",
    "dataset = get_dataset_for_analysis(documents)\n",
    "dataset.head()"
   ]
  },
  {
   "cell_type": "markdown",
   "metadata": {},
   "source": [
    "上記の表に変換したデータを表示しました。ここで、`label`は文の評価を表しており、`sent`は評価対象の文を表しています。今回構築するベースラインの機械学習モデルの目標は、`sent`を入力した際にその`label`を予測することです。そのためにまず、データを探索し、データに対する理解を深めましょう。"
   ]
  },
  {
   "cell_type": "markdown",
   "metadata": {},
   "source": [
    "## データセットの探索\n",
    "データセットの探索では、データに対する理解を深めて、モデルの作成に役立てます。探索のためにPythonの`Seaborn`パッケージを使ってデータを可視化します。\n",
    "\n",
    "まずは、評価別のデータ数を可視化してみましょう。"
   ]
  },
  {
   "cell_type": "code",
   "execution_count": 5,
   "metadata": {},
   "outputs": [
    {
     "data": {
      "text/plain": [
       "<matplotlib.axes._subplots.AxesSubplot at 0x10af41390>"
      ]
     },
     "execution_count": 5,
     "metadata": {},
     "output_type": "execute_result"
    },
    {
     "data": {
      "image/png": "[encoded data removed]",
      "text/plain": [
       "<matplotlib.figure.Figure at 0x10382b860>"
      ]
     },
     "metadata": {},
     "output_type": "display_data"
    }
   ],
   "source": [
    "sns.countplot(x='label', data=dataset)"
   ]
  },
  {
   "cell_type": "markdown",
   "metadata": {},
   "source": [
    "うーむ、全体的に`positive`な文が多めであるということがわかりました。\n",
    "\n",
    "グラフをみると、`positive`な文は`negative`な文より多いことがわかります。これは、アベノミクスによる好景気が企業の業績に良い影響を与えていることや、有価証券報告書のはじめが日本の経済状況の説明から始まることが多いのが原因として考えられます。\n",
    "\n",
    "全体的には`positive`な文が多いですが、業界別に見たらどうでしょうか？業界別に文の数と評価を可視化してみましょう。"
   ]
  },
  {
   "cell_type": "code",
   "execution_count": 9,
   "metadata": {},
   "outputs": [
    {
     "data": {
      "image/png": "[encoded data removed]",
      "text/plain": [
       "<matplotlib.figure.Figure at 0x10b0376d8>"
      ]
     },
     "metadata": {},
     "output_type": "display_data"
    }
   ],
   "source": [
    "g = sns.countplot(x='category', data=dataset)\n",
    "for item in g.get_xticklabels():\n",
    "    item.set_rotation(90)"
   ]
  },
  {
   "cell_type": "markdown",
   "metadata": {},
   "source": [
    "文数は業界ごとに結構差があります。そもそも、業界別の企業数が異なるのでこういう結果になるのも当然です。\n",
    "\n",
    "では業界ごとにpositiveとnegativeの文数はどうなっているでしょうか?"
   ]
  },
  {
   "cell_type": "code",
   "execution_count": 10,
   "metadata": {},
   "outputs": [
    {
     "data": {
      "image/png": "[encoded data removed]",
      "text/plain": [
       "<matplotlib.figure.Figure at 0x10b3bf780>"
      ]
     },
     "metadata": {},
     "output_type": "display_data"
    }
   ],
   "source": [
    "g = sns.countplot(x='category', hue='label', data=dataset)\n",
    "for item in g.get_xticklabels():\n",
    "    item.set_rotation(90)"
   ]
  },
  {
   "cell_type": "markdown",
   "metadata": {},
   "source": [
    "全業界で`positive`が`negative`を上回るという結果になりました。ただ、比率は業界によって異なっています。\n",
    "このような情報を利用して、業界ごとの好景気・不景気、業界間の相関(鉄鋼業界が好況だったら自動車業界も好況みたいな)を考慮したモデルを構築しても面白いかもしれませんね。"
   ]
  },
  {
   "cell_type": "markdown",
   "metadata": {
    "collapsed": true
   },
   "source": [
    "## 機械学習モデルの作成\n",
    "データについての理解が深まったところで、機械学習モデルの作成に移りましょう。モデルを作成する前に、データセットを以下の3つに分割します。\n",
    "* 学習用\n",
    "* 検証用\n",
    "* テスト用\n",
    "\n",
    "学習用はモデルの学習に使い、検証用はハイパーパラメータチューニングに使います。テスト用はモデルの汎化性能を評価するために使います。\n",
    "\n",
    "では、以下のようにしてデータセットを3つに分割しましょう。"
   ]
  },
  {
   "cell_type": "code",
   "execution_count": 11,
   "metadata": {},
   "outputs": [],
   "source": [
    "shuffled = dataset.sample(frac=1)\n",
    "trainsize = int(len(shuffled['label']) * 0.70)\n",
    "validsize = int(len(shuffled['label']) * 0.15)\n",
    "\n",
    "df_train = dataset.iloc[:trainsize, :]\n",
    "df_valid = dataset.iloc[trainsize:(trainsize+validsize), :]\n",
    "df_test = dataset.iloc[(trainsize+validsize):, :]"
   ]
  },
  {
   "cell_type": "code",
   "execution_count": 12,
   "metadata": {},
   "outputs": [
    {
     "data": {
      "text/html": [
       "<div>\n",
       "<style scoped>\n",
       "    .dataframe tbody tr th:only-of-type {\n",
       "        vertical-align: middle;\n",
       "    }\n",
       "\n",
       "    .dataframe tbody tr th {\n",
       "        vertical-align: top;\n",
       "    }\n",
       "\n",
       "    .dataframe thead th {\n",
       "        text-align: right;\n",
       "    }\n",
       "</style>\n",
       "<table border=\"1\" class=\"dataframe\">\n",
       "  <thead>\n",
       "    <tr style=\"text-align: right;\">\n",
       "      <th></th>\n",
       "      <th>label</th>\n",
       "    </tr>\n",
       "  </thead>\n",
       "  <tbody>\n",
       "    <tr>\n",
       "      <th>count</th>\n",
       "      <td>1969.000000</td>\n",
       "    </tr>\n",
       "    <tr>\n",
       "      <th>mean</th>\n",
       "      <td>0.575927</td>\n",
       "    </tr>\n",
       "    <tr>\n",
       "      <th>std</th>\n",
       "      <td>0.494327</td>\n",
       "    </tr>\n",
       "    <tr>\n",
       "      <th>min</th>\n",
       "      <td>0.000000</td>\n",
       "    </tr>\n",
       "    <tr>\n",
       "      <th>25%</th>\n",
       "      <td>0.000000</td>\n",
       "    </tr>\n",
       "    <tr>\n",
       "      <th>50%</th>\n",
       "      <td>1.000000</td>\n",
       "    </tr>\n",
       "    <tr>\n",
       "      <th>75%</th>\n",
       "      <td>1.000000</td>\n",
       "    </tr>\n",
       "    <tr>\n",
       "      <th>max</th>\n",
       "      <td>1.000000</td>\n",
       "    </tr>\n",
       "  </tbody>\n",
       "</table>\n",
       "</div>"
      ],
      "text/plain": [
       "<div>\n",
       "<style scoped>\n",
       "    .dataframe tbody tr th:only-of-type {\n",
       "        vertical-align: middle;\n",
       "    }\n",
       "\n",
       "    .dataframe tbody tr th {\n",
       "        vertical-align: top;\n",
       "    }\n",
       "\n",
       "    .dataframe thead th {\n",
       "        text-align: right;\n",
       "    }\n",
       "</style>\n",
       "<table border=\"1\" class=\"dataframe\">\n",
       "  <thead>\n",
       "    <tr style=\"text-align: right;\">\n",
       "      <th></th>\n",
       "      <th>label</th>\n",
       "    </tr>\n",
       "  </thead>\n",
       "  <tbody>\n",
       "    <tr>\n",
       "      <th>count</th>\n",
       "      <td>1969.000000</td>\n",
       "    </tr>\n",
       "    <tr>\n",
       "      <th>mean</th>\n",
       "      <td>0.575927</td>\n",
       "    </tr>\n",
       "    <tr>\n",
       "      <th>std</th>\n",
       "      <td>0.494327</td>\n",
       "    </tr>\n",
       "    <tr>\n",
       "      <th>min</th>\n",
       "      <td>0.000000</td>\n",
       "    </tr>\n",
       "    <tr>\n",
       "      <th>25%</th>\n",
       "      <td>0.000000</td>\n",
       "    </tr>\n",
       "    <tr>\n",
       "      <th>50%</th>\n",
       "      <td>1.000000</td>\n",
       "    </tr>\n",
       "    <tr>\n",
       "      <th>75%</th>\n",
       "      <td>1.000000</td>\n",
       "    </tr>\n",
       "    <tr>\n",
       "      <th>max</th>\n",
       "      <td>1.000000</td>\n",
       "    </tr>\n",
       "  </tbody>\n",
       "</table>\n",
       "</div>"
      ]
     },
     "execution_count": 12,
     "metadata": {},
     "output_type": "execute_result"
    }
   ],
   "source": [
    "df_train.describe()"
   ]
  },
  {
   "cell_type": "code",
   "execution_count": 13,
   "metadata": {},
   "outputs": [
    {
     "data": {
      "text/html": [
       "<div>\n",
       "<style scoped>\n",
       "    .dataframe tbody tr th:only-of-type {\n",
       "        vertical-align: middle;\n",
       "    }\n",
       "\n",
       "    .dataframe tbody tr th {\n",
       "        vertical-align: top;\n",
       "    }\n",
       "\n",
       "    .dataframe thead th {\n",
       "        text-align: right;\n",
       "    }\n",
       "</style>\n",
       "<table border=\"1\" class=\"dataframe\">\n",
       "  <thead>\n",
       "    <tr style=\"text-align: right;\">\n",
       "      <th></th>\n",
       "      <th>label</th>\n",
       "    </tr>\n",
       "  </thead>\n",
       "  <tbody>\n",
       "    <tr>\n",
       "      <th>count</th>\n",
       "      <td>421.000000</td>\n",
       "    </tr>\n",
       "    <tr>\n",
       "      <th>mean</th>\n",
       "      <td>0.605701</td>\n",
       "    </tr>\n",
       "    <tr>\n",
       "      <th>std</th>\n",
       "      <td>0.489281</td>\n",
       "    </tr>\n",
       "    <tr>\n",
       "      <th>min</th>\n",
       "      <td>0.000000</td>\n",
       "    </tr>\n",
       "    <tr>\n",
       "      <th>25%</th>\n",
       "      <td>0.000000</td>\n",
       "    </tr>\n",
       "    <tr>\n",
       "      <th>50%</th>\n",
       "      <td>1.000000</td>\n",
       "    </tr>\n",
       "    <tr>\n",
       "      <th>75%</th>\n",
       "      <td>1.000000</td>\n",
       "    </tr>\n",
       "    <tr>\n",
       "      <th>max</th>\n",
       "      <td>1.000000</td>\n",
       "    </tr>\n",
       "  </tbody>\n",
       "</table>\n",
       "</div>"
      ],
      "text/plain": [
       "<div>\n",
       "<style scoped>\n",
       "    .dataframe tbody tr th:only-of-type {\n",
       "        vertical-align: middle;\n",
       "    }\n",
       "\n",
       "    .dataframe tbody tr th {\n",
       "        vertical-align: top;\n",
       "    }\n",
       "\n",
       "    .dataframe thead th {\n",
       "        text-align: right;\n",
       "    }\n",
       "</style>\n",
       "<table border=\"1\" class=\"dataframe\">\n",
       "  <thead>\n",
       "    <tr style=\"text-align: right;\">\n",
       "      <th></th>\n",
       "      <th>label</th>\n",
       "    </tr>\n",
       "  </thead>\n",
       "  <tbody>\n",
       "    <tr>\n",
       "      <th>count</th>\n",
       "      <td>421.000000</td>\n",
       "    </tr>\n",
       "    <tr>\n",
       "      <th>mean</th>\n",
       "      <td>0.605701</td>\n",
       "    </tr>\n",
       "    <tr>\n",
       "      <th>std</th>\n",
       "      <td>0.489281</td>\n",
       "    </tr>\n",
       "    <tr>\n",
       "      <th>min</th>\n",
       "      <td>0.000000</td>\n",
       "    </tr>\n",
       "    <tr>\n",
       "      <th>25%</th>\n",
       "      <td>0.000000</td>\n",
       "    </tr>\n",
       "    <tr>\n",
       "      <th>50%</th>\n",
       "      <td>1.000000</td>\n",
       "    </tr>\n",
       "    <tr>\n",
       "      <th>75%</th>\n",
       "      <td>1.000000</td>\n",
       "    </tr>\n",
       "    <tr>\n",
       "      <th>max</th>\n",
       "      <td>1.000000</td>\n",
       "    </tr>\n",
       "  </tbody>\n",
       "</table>\n",
       "</div>"
      ]
     },
     "execution_count": 13,
     "metadata": {},
     "output_type": "execute_result"
    }
   ],
   "source": [
    "df_valid.describe()"
   ]
  },
  {
   "cell_type": "code",
   "execution_count": 14,
   "metadata": {},
   "outputs": [
    {
     "data": {
      "text/html": [
       "<div>\n",
       "<style scoped>\n",
       "    .dataframe tbody tr th:only-of-type {\n",
       "        vertical-align: middle;\n",
       "    }\n",
       "\n",
       "    .dataframe tbody tr th {\n",
       "        vertical-align: top;\n",
       "    }\n",
       "\n",
       "    .dataframe thead th {\n",
       "        text-align: right;\n",
       "    }\n",
       "</style>\n",
       "<table border=\"1\" class=\"dataframe\">\n",
       "  <thead>\n",
       "    <tr style=\"text-align: right;\">\n",
       "      <th></th>\n",
       "      <th>label</th>\n",
       "    </tr>\n",
       "  </thead>\n",
       "  <tbody>\n",
       "    <tr>\n",
       "      <th>count</th>\n",
       "      <td>423.000000</td>\n",
       "    </tr>\n",
       "    <tr>\n",
       "      <th>mean</th>\n",
       "      <td>0.664303</td>\n",
       "    </tr>\n",
       "    <tr>\n",
       "      <th>std</th>\n",
       "      <td>0.472793</td>\n",
       "    </tr>\n",
       "    <tr>\n",
       "      <th>min</th>\n",
       "      <td>0.000000</td>\n",
       "    </tr>\n",
       "    <tr>\n",
       "      <th>25%</th>\n",
       "      <td>0.000000</td>\n",
       "    </tr>\n",
       "    <tr>\n",
       "      <th>50%</th>\n",
       "      <td>1.000000</td>\n",
       "    </tr>\n",
       "    <tr>\n",
       "      <th>75%</th>\n",
       "      <td>1.000000</td>\n",
       "    </tr>\n",
       "    <tr>\n",
       "      <th>max</th>\n",
       "      <td>1.000000</td>\n",
       "    </tr>\n",
       "  </tbody>\n",
       "</table>\n",
       "</div>"
      ],
      "text/plain": [
       "<div>\n",
       "<style scoped>\n",
       "    .dataframe tbody tr th:only-of-type {\n",
       "        vertical-align: middle;\n",
       "    }\n",
       "\n",
       "    .dataframe tbody tr th {\n",
       "        vertical-align: top;\n",
       "    }\n",
       "\n",
       "    .dataframe thead th {\n",
       "        text-align: right;\n",
       "    }\n",
       "</style>\n",
       "<table border=\"1\" class=\"dataframe\">\n",
       "  <thead>\n",
       "    <tr style=\"text-align: right;\">\n",
       "      <th></th>\n",
       "      <th>label</th>\n",
       "    </tr>\n",
       "  </thead>\n",
       "  <tbody>\n",
       "    <tr>\n",
       "      <th>count</th>\n",
       "      <td>423.000000</td>\n",
       "    </tr>\n",
       "    <tr>\n",
       "      <th>mean</th>\n",
       "      <td>0.664303</td>\n",
       "    </tr>\n",
       "    <tr>\n",
       "      <th>std</th>\n",
       "      <td>0.472793</td>\n",
       "    </tr>\n",
       "    <tr>\n",
       "      <th>min</th>\n",
       "      <td>0.000000</td>\n",
       "    </tr>\n",
       "    <tr>\n",
       "      <th>25%</th>\n",
       "      <td>0.000000</td>\n",
       "    </tr>\n",
       "    <tr>\n",
       "      <th>50%</th>\n",
       "      <td>1.000000</td>\n",
       "    </tr>\n",
       "    <tr>\n",
       "      <th>75%</th>\n",
       "      <td>1.000000</td>\n",
       "    </tr>\n",
       "    <tr>\n",
       "      <th>max</th>\n",
       "      <td>1.000000</td>\n",
       "    </tr>\n",
       "  </tbody>\n",
       "</table>\n",
       "</div>"
      ]
     },
     "execution_count": 14,
     "metadata": {},
     "output_type": "execute_result"
    }
   ],
   "source": [
    "df_test.describe()"
   ]
  },
  {
   "cell_type": "markdown",
   "metadata": {},
   "source": [
    "## ベンチマークの作成\n",
    "複雑な機械学習モデルを作成する前に、シンプルなモデルを構築し、ベンチマークとして使いましょう。ベンチマークモデルの入力には、各文を単語列に分割し、各単語に対するTF-IDF値を計算したベクトルを使います。また、分類器にはロジスティック回帰を使います。ロジスティック回帰はシンプルながら強力なモデルであり、ベンチマークのモデルを構築する際によく使われます。評価はF1で行いましょう。\n",
    "\n",
    "まずは、必要なPythonモジュールをインポートします。"
   ]
  },
  {
   "cell_type": "code",
   "execution_count": 15,
   "metadata": {},
   "outputs": [],
   "source": [
    "from janome.tokenizer import Tokenizer\n",
    "from sklearn.feature_extraction.text import TfidfVectorizer\n",
    "from sklearn.linear_model import LogisticRegression\n",
    "from sklearn.metrics import classification_report"
   ]
  },
  {
   "cell_type": "markdown",
   "metadata": {},
   "source": [
    "次に入力の各文をTF-IDFのベクトルに変換します。入力文の分かち書きには形態素解析器`Janome`を使い、TF-IDFの計算には`TfidfVectorizer`を使うことにしましょう。"
   ]
  },
  {
   "cell_type": "code",
   "execution_count": 16,
   "metadata": {},
   "outputs": [],
   "source": [
    "tokenizer = Tokenizer()\n",
    "t = lambda text: tokenizer.tokenize(text, wakati=True)\n",
    "\n",
    "vectorizer = TfidfVectorizer(tokenizer=t, analyzer='word')\n",
    "\n",
    "X_train = vectorizer.fit_transform(df_train['sent'])\n",
    "X_valid = vectorizer.transform(df_valid['sent'])\n",
    "y_train = df_train['label']\n",
    "y_valid = df_valid['label']"
   ]
  },
  {
   "cell_type": "markdown",
   "metadata": {},
   "source": [
    "最後に、用意したデータを使って分類器に学習させましょう。分類器には`LogisticRegression`を使います。"
   ]
  },
  {
   "cell_type": "code",
   "execution_count": 17,
   "metadata": {},
   "outputs": [
    {
     "data": {
      "text/plain": [
       "LogisticRegression(C=1.0, class_weight=None, dual=False, fit_intercept=True,\n          intercept_scaling=1, max_iter=100, multi_class='ovr', n_jobs=1,\n          penalty='l2', random_state=None, solver='liblinear', tol=0.0001,\n          verbose=0, warm_start=False)"
      ]
     },
     "execution_count": 17,
     "metadata": {},
     "output_type": "execute_result"
    }
   ],
   "source": [
    "clf = LogisticRegression()\n",
    "clf.fit(X_train, y_train)"
   ]
  },
  {
   "cell_type": "code",
   "execution_count": 18,
   "metadata": {},
   "outputs": [
    {
     "name": "stdout",
     "output_type": "stream",
     "text": [
      "             precision    recall  f1-score   support\n\n          0       0.82      0.66      0.73       166\n          1       0.80      0.91      0.85       255\n\navg / total       0.81      0.81      0.80       421\n\n"
     ]
    }
   ],
   "source": [
    "y_pred = clf.predict(X_valid)\n",
    "print(classification_report(y_valid, y_pred))"
   ]
  },
  {
   "cell_type": "markdown",
   "metadata": {},
   "source": [
    "シンプルな単語ベースのモデルでは、F1で0.80という性能になりました。\n",
    "\n",
    "これはあまり良くない性能です。どうしたら改善できるでしょうか？\n",
    "\n",
    "原因を探ってみましょう。まずは学習曲線を書くための関数を定義します。"
   ]
  },
  {
   "cell_type": "code",
   "execution_count": 19,
   "metadata": {},
   "outputs": [],
   "source": [
    "import numpy as np\n",
    "import matplotlib.pyplot as plt\n",
    "from sklearn.model_selection import learning_curve\n",
    "from sklearn.model_selection import ShuffleSplit\n",
    "\n",
    "\n",
    "def plot_learning_curve(estimator, title, X, y, ylim=None, cv=None,\n",
    "                        n_jobs=-1, train_sizes=np.linspace(.1, 1.0, 5)):\n",
    "    plt.figure()\n",
    "    plt.title(title)\n",
    "    if ylim is not None:\n",
    "        plt.ylim(*ylim)\n",
    "    plt.xlabel(\"Training examples\")\n",
    "    plt.ylabel(\"Score\")\n",
    "    train_sizes, train_scores, test_scores = learning_curve(\n",
    "        estimator, X, y, cv=cv, n_jobs=n_jobs, train_sizes=train_sizes)\n",
    "    train_scores_mean = np.mean(train_scores, axis=1)\n",
    "    train_scores_std = np.std(train_scores, axis=1)\n",
    "    test_scores_mean = np.mean(test_scores, axis=1)\n",
    "    test_scores_std = np.std(test_scores, axis=1)\n",
    "    plt.grid()\n",
    "\n",
    "    plt.fill_between(train_sizes, train_scores_mean - train_scores_std,\n",
    "                     train_scores_mean + train_scores_std, alpha=0.1,\n",
    "                     color=\"r\")\n",
    "    plt.fill_between(train_sizes, test_scores_mean - test_scores_std,\n",
    "                     test_scores_mean + test_scores_std, alpha=0.1, color=\"g\")\n",
    "    plt.plot(train_sizes, train_scores_mean, 'o-', color=\"r\",\n",
    "             label=\"Training score\")\n",
    "    plt.plot(train_sizes, test_scores_mean, 'o-', color=\"g\",\n",
    "             label=\"Cross-validation score\")\n",
    "\n",
    "    plt.legend(loc=\"best\")\n",
    "\n",
    "    return plt"
   ]
  },
  {
   "cell_type": "markdown",
   "metadata": {},
   "source": [
    "学習曲線を描画すると以下のようになります。"
   ]
  },
  {
   "cell_type": "code",
   "execution_count": 20,
   "metadata": {},
   "outputs": [
    {
     "data": {
      "image/png": "[encoded data removed]",
      "text/plain": [
       "<matplotlib.figure.Figure at 0x10b2e1b70>"
      ]
     },
     "metadata": {},
     "output_type": "display_data"
    }
   ],
   "source": [
    "title = \"Learning Curves\"\n",
    "cv = ShuffleSplit(n_splits=5, test_size=0.2, random_state=0)\n",
    "clf = LogisticRegression()\n",
    "plot_learning_curve(clf, title, X_train, y_train, cv=cv)\n",
    "\n",
    "plt.show()"
   ]
  },
  {
   "cell_type": "markdown",
   "metadata": {},
   "source": [
    "完全に過学習しています。原因としては、データ数に対して特徴数が大きすぎることや正則化の強さが十分でないことが考えられます。実際に特徴数を表示してみましょう。特徴数を表示するためには、`vectorizer`の`get_feature_names`メソッドを呼び出します。"
   ]
  },
  {
   "cell_type": "code",
   "execution_count": 21,
   "metadata": {},
   "outputs": [
    {
     "data": {
      "text/plain": [
       "4713"
      ]
     },
     "execution_count": 21,
     "metadata": {},
     "output_type": "execute_result"
    }
   ],
   "source": [
    "len(vectorizer.get_feature_names())"
   ]
  },
  {
   "cell_type": "markdown",
   "metadata": {},
   "source": [
    "正則化については、LogisticRegressionではデフォルトではL2正則化を行っていました。しかし、結果をみると正則化しているにもかかわらず、過学習をしています。この結果は正則化の強さが十分ではないことを示唆しています。\n",
    "\n",
    "過学習を抑えるために、正則化の強さを調整しても良いのですが、今回はL2正則化の代わりに`L1`正則化を行うことにしましょう。L1正則化をすることで、特徴選択の効果が期待できます。これは実質的には単語数を削減したモデルを作成することに相当するはずです。"
   ]
  },
  {
   "cell_type": "code",
   "execution_count": 22,
   "metadata": {},
   "outputs": [
    {
     "name": "stdout",
     "output_type": "stream",
     "text": [
      "             precision    recall  f1-score   support\n\n          0       0.83      0.69      0.75       166\n          1       0.82      0.91      0.86       255\n\navg / total       0.82      0.82      0.82       421\n\n"
     ]
    }
   ],
   "source": [
    "clf = LogisticRegression(penalty='l1')\n",
    "clf.fit(X_train, y_train)\n",
    "y_pred = clf.predict(X_valid)\n",
    "print(classification_report(y_valid, y_pred))"
   ]
  },
  {
   "cell_type": "markdown",
   "metadata": {},
   "source": [
    "L1正則化を行うことで、性能が向上しました。では特徴選択できているのか確認してみましょう。それには、分類器の重みを確認してあげれば良さそうです。分類器の重みは、`coef_`属性の中身を見れば確認することができます。\n",
    "\n",
    "では実際に、分類器の重みが0の個数を確認してみましょう。"
   ]
  },
  {
   "cell_type": "code",
   "execution_count": 23,
   "metadata": {},
   "outputs": [
    {
     "name": "stdout",
     "output_type": "stream",
     "text": [
      "4657 / 4713\n"
     ]
    }
   ],
   "source": [
    "weights = clf.coef_[0]\n",
    "num_zero_weight = (weights == 0).sum()\n",
    "print('{} / {}'.format(num_zero_weight, len(weights)))"
   ]
  },
  {
   "cell_type": "markdown",
   "metadata": {},
   "source": [
    "結果を見ると、ほとんどの重みが0という結果になりました。では重みが0でない特徴とはどのような特徴なのでしょうか?確認してみましょう。"
   ]
  },
  {
   "cell_type": "code",
   "execution_count": 24,
   "metadata": {},
   "outputs": [
    {
     "name": "stdout",
     "output_type": "stream",
     "text": [
      ".\t0.28626606661858256\n「\t0.07495109707849656\nあっ\t0.11836573313614954\nし\t0.485329684171458\nしかしながら\t-0.763260696994458\nず\t-1.780499199628605\nで\t0.44611263819087005\nの\t-2.2071656630340883\n一方\t-1.740527578054762\n上回り\t4.687978462906701\n上回る\t1.2495889098131259\n下回り\t-6.974095241979576\n下回る\t-3.970340836724465\n伴う\t-2.3240596567965097\n伸び悩み\t-3.727898546689722\n低下\t-0.5231781974128678\n低調\t-2.188631974193191\n低迷\t-9.412259923869266\n住宅\t0.00210455890275084\n価格\t-1.3095275788700942\n先行き\t-0.025127335079959744\n利益\t0.1539367529789882\n前期\t0.7843264498307803\n厳しい\t-10.046777185464297\n品\t-0.9384303867443275\n回復\t6.022900967924225\n堅調\t9.532511745545559\n増\t17.329185217108524\n増加\t8.990293647207594\n増収\t6.266036299014662\n増益\t5.290892000195356\n好調\t9.070138897503252\n店舗\t-1.2582100808063788\n影響\t-1.485280542893238\n持ち直し\t1.9258881260670189\n推移\t0.36901478179444586\n損失\t-2.6229199640271776\n改善\t6.478559567570897\n最高\t0.6809198005512346\n業界\t-0.6653763037487439\n消費\t-1.9671300814489463\n減\t-23.590238363019722\n減収\t-10.652132293342898\n減少\t-15.945073713829874\n減益\t-8.686605508875813\n状況\t-7.1029899033025155\n競争\t-2.7106123296777977\n緩やか\t1.713282787402776\n自動車\t1.3795810750185835\n費用\t-5.635498006471234\n部品\t0.6671187397549481\n雇用\t2.159837519653095\n順調\t1.0166614653038375\n類\t0.13075705823185604\n２\t-0.6965565873592933\n３\t-0.23368759379024556\n"
     ]
    }
   ],
   "source": [
    "for feature, weight in zip(vectorizer.get_feature_names(), weights):\n",
    "    if weight == 0:\n",
    "        continue\n",
    "    print('{}\\t{}'.format(feature, weight))"
   ]
  },
  {
   "cell_type": "markdown",
   "metadata": {},
   "source": [
    "以上を見ると、`増`とか`減`といった単語が分類に大きく効いてくることがわかります。\n",
    "\n",
    "では、最後に再び学習曲線を確認してみましょう。"
   ]
  },
  {
   "cell_type": "code",
   "execution_count": 25,
   "metadata": {},
   "outputs": [
    {
     "data": {
      "image/png": "[encoded data removed]",
      "text/plain": [
       "<matplotlib.figure.Figure at 0x10b2e1ac8>"
      ]
     },
     "metadata": {},
     "output_type": "display_data"
    }
   ],
   "source": [
    "title = \"Learning Curves\"\n",
    "cv = ShuffleSplit(n_splits=5, test_size=0.2, random_state=0)\n",
    "clf = LogisticRegression(penalty='l1')\n",
    "plot_learning_curve(clf, title, X_train, y_train, cv=cv)\n",
    "\n",
    "plt.show()"
   ]
  },
  {
   "cell_type": "markdown",
   "metadata": {},
   "source": [
    "学習と検証の性能差が縮まっていることがわかります。過学習はしていませんが、少々アンダーフィット気味です。これに対しては、正則化の強さを変化させたり、より複雑なモデルを使うといった対応をすることで性能改善します。\n",
    "\n",
    "みなさんも、自分なりの仮説を立てて性能改善に取り組んでみましょう。"
   ]
  },
  {
   "cell_type": "code",
   "execution_count": null,
   "metadata": {},
   "outputs": [],
   "source": [
    ""
   ]
  }
 ],
 "metadata": {
  "kernelspec": {
   "display_name": "Python 3",
   "language": "python",
   "name": "python3"
  },
  "language_info": {
   "codemirror_mode": {
    "name": "ipython",
    "version": 3.0
   },
   "file_extension": ".py",
   "mimetype": "text/x-python",
   "name": "python",
   "nbconvert_exporter": "python",
   "pygments_lexer": "ipython3",
   "version": "3.6.4"
  }
 },
 "nbformat": 4,
 "nbformat_minor": 0
}