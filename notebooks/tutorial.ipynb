{
 "cells": [
  {
   "cell_type": "markdown",
   "metadata": {
    "collapsed": true
   },
   "source": [
    "# データの探索とベンチマークの作成\n",
    "このチュートリアルでは、アスペクトベース評価分析のデータセットを用いて、評価分析を行う機械学習モデルを構築します。まず評価分析に用いるデータセットを探索し、理解を深めます。次に、探索したデータセットを用いて、ベースラインとなる機械学習モデルを作成します。\n",
    "\n",
    "では、必要なPythonモジュールをインポートしましょう。"
   ]
  },
  {
   "cell_type": "code",
   "execution_count": 1,
   "metadata": {},
   "outputs": [],
   "source": [
    "import os\n",
    "import json\n",
    "import glob\n",
    "\n",
    "import pandas as pd\n",
    "import seaborn as sns\n",
    "import matplotlib as plt\n",
    "# plt.rcParams['font.family'] = 'IPAexGothic'  # japanese font"
   ]
  },
  {
   "cell_type": "markdown",
   "metadata": {
    "collapsed": true
   },
   "source": [
    "## データセットの読み込み\n",
    "今回は評判分析のデータセットとして[chABSA-dataset](https://github.com/chakki-works/chABSA-dataset)を用いることにします。chABSA-datasetは企業の有価証券報告書に対して、各文に含まれるエンティティごとに評価情報を付与したデータセットです。[こちら](https://storage.googleapis.com/chakki/datasets/public/chABSA/chABSA-dataset.zip)からダウンロードして、`data`ディレクトリに展開してください。\n",
    "\n",
    "データセットを探索して、理解を深めましょう。そのために、ダウンロードしたデータセットを読み込みます。"
   ]
  },
  {
   "cell_type": "code",
   "execution_count": 3,
   "metadata": {
    "scrolled": true
   },
   "outputs": [
    {
     "data": {
      "text/plain": [
       "{'header': {'category17': '電機・精密',\n",
       "  'category33': '精密機器',\n",
       "  'doc_text': '有価証券報告書',\n",
       "  'document_id': 'E01183',\n",
       "  'document_name': '株式会社松風',\n",
       "  'edi_id': 'E01183',\n",
       "  'scale': '7',\n",
       "  'security_code': '79790'},\n",
       " 'sentences': [{'opinions': [{'category': 'NULL#general',\n",
       "     'from': 20,\n",
       "     'polarity': 'positive',\n",
       "     'target': '景気',\n",
       "     'to': 22},\n",
       "    {'category': 'NULL#general',\n",
       "     'from': 95,\n",
       "     'polarity': 'neutral',\n",
       "     'target': '先行き',\n",
       "     'to': 98}],\n",
       "   'sentence': '当連結会計年度の世界経済は、米国を中心に景気は概ね堅調に推移しましたが、英国のEU離脱問題による影響のほか、中国をはじめとする新興国経済の減速懸念や米国新政権の政策動向の不確実性など、景気の先行きは不透明な状況が続きました',\n",
       "   'sentence_id': 0},\n",
       "  {'opinions': [{'category': 'NULL#general',\n",
       "     'from': 0,\n",
       "     'polarity': 'positive',\n",
       "     'target': '国内経済',\n",
       "     'to': 4},\n",
       "    {'category': 'NULL#general',\n",
       "     'from': 10,\n",
       "     'polarity': 'positive',\n",
       "     'target': '企業収益',\n",
       "     'to': 14},\n",
       "    {'category': 'NULL#general',\n",
       "     'from': 15,\n",
       "     'polarity': 'positive',\n",
       "     'target': '雇用',\n",
       "     'to': 17},\n",
       "    {'category': 'NULL#general',\n",
       "     'from': 18,\n",
       "     'polarity': 'positive',\n",
       "     'target': '所得環境',\n",
       "     'to': 22}],\n",
       "   'sentence': '国内経済については、企業収益や雇用・所得環境に底堅さが見られるなど、総じて緩やかな回復基調をたどりました',\n",
       "   'sentence_id': 1},\n",
       "  {'opinions': [{'category': 'market#general',\n",
       "     'from': 1,\n",
       "     'polarity': 'negative',\n",
       "     'target': '歯科業界',\n",
       "     'to': 5},\n",
       "    {'category': 'NULL#general',\n",
       "     'from': 44,\n",
       "     'polarity': 'negative',\n",
       "     'target': '企業間競争',\n",
       "     'to': 49}],\n",
       "   'sentence': '当歯科業界におきましては、デジタル化の進展により市場環境は大きく変化しており、世界規模で企業間競争が激化するなど、引き続き厳しい事業環境が続きました',\n",
       "   'sentence_id': 2},\n",
       "  {'opinions': [],\n",
       "   'sentence': 'このような状況の中、当社グループは第二次中期経営計画の２年目を迎え、海外事業の拡大と国内事業の基盤強化をベースに、将来の成長に向けた施策を推進しました',\n",
       "   'sentence_id': 3},\n",
       "  {'opinions': [],\n",
       "   'sentence': '海外市場において売上拡大を図るため、ブラジル・サンパウロに販売子会社を設立するとともに、インドにおいて販売子会社の設立に向けた手続きを進めるなど、成長市場での販売基盤の強化に向けた取組みを行いました',\n",
       "   'sentence_id': 4},\n",
       "  {'opinions': [],\n",
       "   'sentence': 'また、中国をはじめ今後拡大する海外需要に対して安定的に製品を供給するため、本社敷地内に新たにセラミック材料の製造工場を建設し、生産体制の強化を図るなど、積極的な事業活動を展開してまいりました',\n",
       "   'sentence_id': 5},\n",
       "  {'opinions': [{'category': 'NULL#sales',\n",
       "     'from': 15,\n",
       "     'polarity': 'negative',\n",
       "     'target': '売上高',\n",
       "     'to': 18}],\n",
       "   'sentence': 'しかしながら、当連結会計年度の売上高は、為替の円高による影響もあり、22,305百万円と前年同期比670百万円(2.9%)の減収となりました',\n",
       "   'sentence_id': 6},\n",
       "  {'opinions': [{'category': 'NULL#profit',\n",
       "     'from': 0,\n",
       "     'polarity': 'negative',\n",
       "     'target': '営業利益',\n",
       "     'to': 4},\n",
       "    {'category': 'NULL#cost',\n",
       "     'from': 23,\n",
       "     'polarity': 'negative',\n",
       "     'target': '費用負担',\n",
       "     'to': 27}],\n",
       "   'sentence': '営業利益は、減収の影響や積極的な販売活動に伴う費用負担の増加により、1,382百万円と前年同期比186百万円(11.9%)の減益となりました',\n",
       "   'sentence_id': 7},\n",
       "  {'opinions': [{'category': 'NULL#profit',\n",
       "     'from': 0,\n",
       "     'polarity': 'negative',\n",
       "     'target': '経常利益',\n",
       "     'to': 4},\n",
       "    {'category': 'NULL#cost',\n",
       "     'from': 13,\n",
       "     'polarity': 'negative',\n",
       "     'target': '営業外費用',\n",
       "     'to': 18},\n",
       "    {'category': 'NULL#cost',\n",
       "     'from': 64,\n",
       "     'polarity': 'positive',\n",
       "     'target': '税金費用',\n",
       "     'to': 68},\n",
       "    {'category': 'NULL#profit',\n",
       "     'from': 85,\n",
       "     'polarity': 'positive',\n",
       "     'target': '当期純利益',\n",
       "     'to': 90}],\n",
       "   'sentence': '経常利益は、為替差損などの営業外費用が増加したため、1,141百万円と前年同期比252百万円(18.1%)の減益となりましたが、税金費用の減少により、親会社株主に帰属する当期純利益は、836百万円と前年同期比47百万円(6.0%)の増益となりました',\n",
       "   'sentence_id': 8},\n",
       "  {'opinions': [], 'sentence': 'セグメントごとの業績は、次のとおりであります', 'sentence_id': 9},\n",
       "  {'opinions': [], 'sentence': '① \\xa0デンタル関連事業', 'sentence_id': 10},\n",
       "  {'opinions': [],\n",
       "   'sentence': '国内におきましては、歯科接着用レジンセメント「ブロックＨＣセム」や歯科重合用光照射器「ペンブライト」を市場投入しました',\n",
       "   'sentence_id': 11},\n",
       "  {'opinions': [{'category': 'product#sales',\n",
       "     'from': 21,\n",
       "     'polarity': 'positive',\n",
       "     'target': '化工品',\n",
       "     'to': 24},\n",
       "    {'category': 'product#sales',\n",
       "     'from': 25,\n",
       "     'polarity': 'positive',\n",
       "     'target': 'ＣＡＤ/ＣＡＭ関連製品',\n",
       "     'to': 36},\n",
       "    {'category': 'NULL#general',\n",
       "     'from': 48,\n",
       "     'polarity': 'negative',\n",
       "     'target': '市場競争',\n",
       "     'to': 52},\n",
       "    {'category': 'product#sales',\n",
       "     'from': 59,\n",
       "     'polarity': 'negative',\n",
       "     'target': '人工歯',\n",
       "     'to': 62},\n",
       "    {'category': 'product#sales',\n",
       "     'from': 69,\n",
       "     'polarity': 'negative',\n",
       "     'target': '主力製品',\n",
       "     'to': 73}],\n",
       "   'sentence': 'これらの新製品に加え、当社の注力分野である化工品やＣＡＤ/ＣＡＭ関連製品が売上に寄与しましたが、市場競争の激化により、人工歯をはじめ既存の主力製品の販売が計画に届かず、前年同期比減収となりました',\n",
       "   'sentence_id': 12},\n",
       "  {'opinions': [{'category': 'business#sales',\n",
       "     'from': 0,\n",
       "     'polarity': 'negative',\n",
       "     'target': '海外',\n",
       "     'to': 2},\n",
       "    {'category': 'business#sales',\n",
       "     'from': 19,\n",
       "     'polarity': 'positive',\n",
       "     'target': '北米',\n",
       "     'to': 21},\n",
       "    {'category': 'business#sales',\n",
       "     'from': 22,\n",
       "     'polarity': 'positive',\n",
       "     'target': '中国',\n",
       "     'to': 24}],\n",
       "   'sentence': '海外では、積極的な拡販戦略が功を奏し、北米や中国で売上が堅調に推移しましたが、為替の円高の影響により、前年同期比減収となりました',\n",
       "   'sentence_id': 13},\n",
       "  {'opinions': [{'category': 'business#sales',\n",
       "     'from': 7,\n",
       "     'polarity': 'negative',\n",
       "     'target': 'デンタル関連事業',\n",
       "     'to': 15},\n",
       "    {'category': 'business#profit',\n",
       "     'from': 7,\n",
       "     'polarity': 'negative',\n",
       "     'target': 'デンタル関連事業',\n",
       "     'to': 15}],\n",
       "   'sentence': 'これらの結果、デンタル関連事業の売上高は、20,267百万円と前年同期比732百万円(3.5%)の減収となり、営業利益は1,380百万円と前年同期比134百万円(8.9%)の減益となりました',\n",
       "   'sentence_id': 14},\n",
       "  {'opinions': [], 'sentence': '② \\xa0ネイル関連事業', 'sentence_id': 15},\n",
       "  {'opinions': [{'category': 'market#general',\n",
       "     'from': 0,\n",
       "     'polarity': 'negative',\n",
       "     'target': 'ネイル業界',\n",
       "     'to': 5},\n",
       "    {'category': 'NULL#general',\n",
       "     'from': 40,\n",
       "     'polarity': 'negative',\n",
       "     'target': '低価格志向',\n",
       "     'to': 45}],\n",
       "   'sentence': 'ネイル業界におきましては、市場は緩やかな拡大傾向を維持しているものの、ユーザーの低価格志向の高まりを背景に、業界全体で価格競争の様相を呈するなど、事業を取り巻く環境は依然として厳しい状況にあります',\n",
       "   'sentence_id': 16},\n",
       "  {'opinions': [{'category': 'business#sales',\n",
       "     'from': 0,\n",
       "     'polarity': 'negative',\n",
       "     'target': '国内',\n",
       "     'to': 2},\n",
       "    {'category': 'product#sales',\n",
       "     'from': 69,\n",
       "     'polarity': 'negative',\n",
       "     'target': 'L・E・D GEL Presto',\n",
       "     'to': 85}],\n",
       "   'sentence': '国内では、ジェルネイル製品の新色カラージェルを市場投入するほか、全国各地で製品の優位性を訴求するセミナーを積極展開しましたが、主力製品の「L・E・D GEL Presto」が伸び悩み、売上は低調に推移しました',\n",
       "   'sentence_id': 17},\n",
       "  {'opinions': [{'category': 'business#sales',\n",
       "     'from': 0,\n",
       "     'polarity': 'positive',\n",
       "     'target': '海外',\n",
       "     'to': 2},\n",
       "    {'category': 'product#general',\n",
       "     'from': 31,\n",
       "     'polarity': 'positive',\n",
       "     'target': 'ジェルネイル製品',\n",
       "     'to': 39}],\n",
       "   'sentence': '海外では、積極的なプロモーション活動により、米国や台湾においてジェルネイル製品の認知度が高まったことから、売上は好調に推移いたしました',\n",
       "   'sentence_id': 18},\n",
       "  {'opinions': [{'category': 'business#sales',\n",
       "     'from': 7,\n",
       "     'polarity': 'positive',\n",
       "     'target': 'ネイル関連事業',\n",
       "     'to': 14},\n",
       "    {'category': 'business#cost',\n",
       "     'from': 7,\n",
       "     'polarity': 'negative',\n",
       "     'target': 'ネイル関連事業',\n",
       "     'to': 14},\n",
       "    {'category': 'business#profit',\n",
       "     'from': 7,\n",
       "     'polarity': 'negative',\n",
       "     'target': 'ネイル関連事業',\n",
       "     'to': 14}],\n",
       "   'sentence': 'これらの結果、ネイル関連事業の売上高は、1,944百万円と前年同期比50百万円(2.7%)の増収となりましたが、利益面は、販売費及び一般管理費の増加により、営業損失25百万円と前年同期比47百万円の減益となりました',\n",
       "   'sentence_id': 19},\n",
       "  {'opinions': [], 'sentence': '③ \\xa0その他の事業', 'sentence_id': 20},\n",
       "  {'opinions': [],\n",
       "   'sentence': '当社グループの株式会社松風プロダクツ京都において、歯科用研磨材の生産技術を応用し、工業用研磨材を製造販売しております',\n",
       "   'sentence_id': 21},\n",
       "  {'opinions': [{'category': 'business#sales',\n",
       "     'from': 0,\n",
       "     'polarity': 'positive',\n",
       "     'target': 'その他の事業',\n",
       "     'to': 6},\n",
       "    {'category': 'business#profit',\n",
       "     'from': 0,\n",
       "     'polarity': 'neutral',\n",
       "     'target': 'その他の事業',\n",
       "     'to': 6}],\n",
       "   'sentence': 'その他の事業の売上高は、93百万円と前年同期比10百万円(12.8%)の増収となり、営業利益は22百万円とほぼ前年同期並みとなりました',\n",
       "   'sentence_id': 22}]}"
      ]
     },
     "execution_count": 3,
     "metadata": {},
     "output_type": "execute_result"
    }
   ],
   "source": [
    "documents = []\n",
    "\n",
    "json_files = glob.glob('../data/chABSA-dataset/*.json')\n",
    "for json_file in json_files:\n",
    "    with open(json_file, encoding=\"utf-8\") as f:\n",
    "        documents.append(json.load(f))\n",
    "        \n",
    "documents[0]"
   ]
  },
  {
   "cell_type": "markdown",
   "metadata": {},
   "source": [
    "上記のコードを実行すると、ダウンロードしたデータを読み込み、そのうちの一件を表示します。一件のデータは一つの有価証券報告書を表しています。有価証券報告書を文単位に分解したものが`sentences`の中に入っています。各文には複数のエンティティが含まれています。`opinions`の中に、文内に含まれるエンティティ(`target`)、属性(`category`)、評価(`polarity`)が含まれています。**評価が文単位ではなく、エンティティ単位でついていることに注意してください。**\n",
    "\n",
    "各項目に関する定義は[アノテーション定義書](https://github.com/chakki-works/chABSA-dataset/tree/master/annotation/doc)を御覧ください。\n",
    "\n",
    "このチュートリアルでは各文に対してその評価を予測します。しかし、データセットでは文単位の評価はアノテーションされていません。ここでは文単位の評価を得るために、文中に含まれる各エンティティに対する評価の和が`0`より大きかったら`positive`、`0`より小さかったら`negative`となるようにデータセットを変換します。"
   ]
  },
  {
   "cell_type": "code",
   "execution_count": 4,
   "metadata": {},
   "outputs": [
    {
     "data": {
      "text/html": [
       "<div>\n",
       "<style scoped>\n",
       "    .dataframe tbody tr th:only-of-type {\n",
       "        vertical-align: middle;\n",
       "    }\n",
       "\n",
       "    .dataframe tbody tr th {\n",
       "        vertical-align: top;\n",
       "    }\n",
       "\n",
       "    .dataframe thead th {\n",
       "        text-align: right;\n",
       "    }\n",
       "</style>\n",
       "<table border=\"1\" class=\"dataframe\">\n",
       "  <thead>\n",
       "    <tr style=\"text-align: right;\">\n",
       "      <th></th>\n",
       "      <th>label</th>\n",
       "      <th>category</th>\n",
       "      <th>sent</th>\n",
       "    </tr>\n",
       "  </thead>\n",
       "  <tbody>\n",
       "    <tr>\n",
       "      <th>0</th>\n",
       "      <td>1</td>\n",
       "      <td>電機・精密</td>\n",
       "      <td>当連結会計年度の世界経済は、米国を中心に景気は概ね堅調に推移しましたが、英国のEU離脱問題に...</td>\n",
       "    </tr>\n",
       "    <tr>\n",
       "      <th>1</th>\n",
       "      <td>1</td>\n",
       "      <td>電機・精密</td>\n",
       "      <td>国内経済については、企業収益や雇用・所得環境に底堅さが見られるなど、総じて緩やかな回復基調を...</td>\n",
       "    </tr>\n",
       "    <tr>\n",
       "      <th>2</th>\n",
       "      <td>0</td>\n",
       "      <td>電機・精密</td>\n",
       "      <td>当歯科業界におきましては、デジタル化の進展により市場環境は大きく変化しており、世界規模で企業...</td>\n",
       "    </tr>\n",
       "    <tr>\n",
       "      <th>3</th>\n",
       "      <td>0</td>\n",
       "      <td>電機・精密</td>\n",
       "      <td>しかしながら、当連結会計年度の売上高は、為替の円高による影響もあり、22,305百万円と前年...</td>\n",
       "    </tr>\n",
       "    <tr>\n",
       "      <th>4</th>\n",
       "      <td>0</td>\n",
       "      <td>電機・精密</td>\n",
       "      <td>営業利益は、減収の影響や積極的な販売活動に伴う費用負担の増加により、1,382百万円と前年同...</td>\n",
       "    </tr>\n",
       "  </tbody>\n",
       "</table>\n",
       "</div>"
      ],
      "text/plain": [
       "   label category                                               sent\n",
       "0      1    電機・精密  当連結会計年度の世界経済は、米国を中心に景気は概ね堅調に推移しましたが、英国のEU離脱問題に...\n",
       "1      1    電機・精密  国内経済については、企業収益や雇用・所得環境に底堅さが見られるなど、総じて緩やかな回復基調を...\n",
       "2      0    電機・精密  当歯科業界におきましては、デジタル化の進展により市場環境は大きく変化しており、世界規模で企業...\n",
       "3      0    電機・精密  しかしながら、当連結会計年度の売上高は、為替の円高による影響もあり、22,305百万円と前年...\n",
       "4      0    電機・精密  営業利益は、減収の影響や積極的な販売活動に伴う費用負担の増加により、1,382百万円と前年同..."
      ]
     },
     "execution_count": 4,
     "metadata": {},
     "output_type": "execute_result"
    }
   ],
   "source": [
    "def get_dataset_for_analysis(documents):\n",
    "        dataset = {'label': [], 'category': [], 'sent': []}\n",
    "        for d in documents:\n",
    "            \n",
    "            conv = {'negative': -1, 'positive': 1, 'neutral': 0}\n",
    "            for sent in d['sentences']:\n",
    "                sentiment = sum(conv[opinion['polarity']] for opinion in sent['opinions'])\n",
    "                if sentiment == 0:  # neutral\n",
    "                    continue\n",
    "                dataset['label'].append(0 if sentiment < 0 else 1)\n",
    "                dataset['category'].append(d['header']['category17'])\n",
    "                dataset['sent'].append(sent['sentence'])\n",
    "            \n",
    "        dataset = pd.DataFrame(dataset, columns=['label', 'category', 'sent'])\n",
    "        return dataset\n",
    "    \n",
    "dataset = get_dataset_for_analysis(documents)\n",
    "dataset.head()"
   ]
  },
  {
   "cell_type": "markdown",
   "metadata": {},
   "source": [
    "上記の表に変換したデータを表示しました。ここで、`label`は文の評価を表しており、`sent`は評価対象の文を表しています。今回構築するベースラインの機械学習モデルの目標は、`sent`を入力した際にその`label`を予測することです。そのためにまず、データを探索し、データに対する理解を深めましょう。"
   ]
  },
  {
   "cell_type": "markdown",
   "metadata": {},
   "source": [
    "## データセットの探索\n",
    "データセットの探索では、データに対する理解を深めて、モデルの作成に役立てます。探索のためにPythonの`Seaborn`パッケージを使ってデータを可視化します。\n",
    "\n",
    "まずは、評価別のデータ数を可視化してみましょう。"
   ]
  },
  {
   "cell_type": "code",
   "execution_count": 6,
   "metadata": {},
   "outputs": [
    {
     "data": {
      "text/plain": [
       "<matplotlib.axes._subplots.AxesSubplot at 0x1152ddf28>"
      ]
     },
     "execution_count": 6,
     "metadata": {},
     "output_type": "execute_result"
    },
    {
     "data": {
      "image/png": "[encoded data removed]",
      "text/plain": [
       "<matplotlib.figure.Figure at 0x115253fd0>"
      ]
     },
     "metadata": {},
     "output_type": "display_data"
    }
   ],
   "source": [
    "sns.countplot(x='label', data=dataset)"
   ]
  },
  {
   "cell_type": "markdown",
   "metadata": {},
   "source": [
    "うーむ、全体的に`positive`な文が多めであるということがわかりました。\n",
    "\n",
    "グラフをみると、`positive`な文は`negative`な文より多いことがわかります。これは、アベノミクスによる好景気が企業の業績に良い影響を与えていることや、有価証券報告書のはじめが日本の経済状況の説明から始まることが多いのが原因として考えられます。\n",
    "\n",
    "全体的には`positive`な文が多いですが、業界別に見たらどうでしょうか？業界別に文の数と評価を可視化してみましょう。"
   ]
  },
  {
   "cell_type": "code",
   "execution_count": 7,
   "metadata": {},
   "outputs": [
    {
     "data": {
      "image/png": "[encoded data removed]",
      "text/plain": [
       "<matplotlib.figure.Figure at 0x1153ac198>"
      ]
     },
     "metadata": {},
     "output_type": "display_data"
    }
   ],
   "source": [
    "g = sns.countplot(x='category', data=dataset)\n",
    "for item in g.get_xticklabels():\n",
    "    item.set_rotation(90)"
   ]
  },
  {
   "cell_type": "markdown",
   "metadata": {},
   "source": [
    "文数は業界ごとに結構差があります。そもそも、業界別の企業数が異なるのでこういう結果になるのも当然です。\n",
    "\n",
    "では業界ごとにpositiveとnegativeの文数はどうなっているでしょうか?"
   ]
  },
  {
   "cell_type": "code",
   "execution_count": 8,
   "metadata": {},
   "outputs": [
    {
     "data": {
      "image/png": "[encoded data removed]",
      "text/plain": [
       "<matplotlib.figure.Figure at 0x1152c92e8>"
      ]
     },
     "metadata": {},
     "output_type": "display_data"
    }
   ],
   "source": [
    "g = sns.countplot(x='category', hue='label', data=dataset)\n",
    "for item in g.get_xticklabels():\n",
    "    item.set_rotation(90)"
   ]
  },
  {
   "cell_type": "markdown",
   "metadata": {},
   "source": [
    "全業界で`positive`が`negative`を上回るという結果になりました。ただ、比率は業界によって異なっています。\n",
    "このような情報を利用して、業界ごとの好景気・不景気、業界間の相関(鉄鋼業界が好況だったら自動車業界も好況みたいな)を考慮したモデルを構築しても面白いかもしれませんね。"
   ]
  },
  {
   "cell_type": "markdown",
   "metadata": {
    "collapsed": true
   },
   "source": [
    "## 機械学習モデルの作成\n",
    "データについての理解が深まったところで、機械学習モデルの作成に移りましょう。モデルを作成する前に、データセットを以下の3つに分割します。\n",
    "* 学習用\n",
    "* 検証用\n",
    "* テスト用\n",
    "\n",
    "学習用はモデルの学習に使い、検証用はハイパーパラメータチューニングに使います。テスト用はモデルの汎化性能を評価するために使います。\n",
    "\n",
    "では、以下のようにしてデータセットを3つに分割しましょう。"
   ]
  },
  {
   "cell_type": "code",
   "execution_count": 9,
   "metadata": {},
   "outputs": [],
   "source": [
    "shuffled = dataset.sample(frac=1)\n",
    "trainsize = int(len(shuffled['label']) * 0.70)\n",
    "validsize = int(len(shuffled['label']) * 0.15)\n",
    "\n",
    "df_train = dataset.iloc[:trainsize, :]\n",
    "df_valid = dataset.iloc[trainsize:(trainsize+validsize), :]\n",
    "df_test = dataset.iloc[(trainsize+validsize):, :]"
   ]
  },
  {
   "cell_type": "code",
   "execution_count": 10,
   "metadata": {},
   "outputs": [
    {
     "data": {
      "text/html": [
       "<div>\n",
       "<style scoped>\n",
       "    .dataframe tbody tr th:only-of-type {\n",
       "        vertical-align: middle;\n",
       "    }\n",
       "\n",
       "    .dataframe tbody tr th {\n",
       "        vertical-align: top;\n",
       "    }\n",
       "\n",
       "    .dataframe thead th {\n",
       "        text-align: right;\n",
       "    }\n",
       "</style>\n",
       "<table border=\"1\" class=\"dataframe\">\n",
       "  <thead>\n",
       "    <tr style=\"text-align: right;\">\n",
       "      <th></th>\n",
       "      <th>label</th>\n",
       "    </tr>\n",
       "  </thead>\n",
       "  <tbody>\n",
       "    <tr>\n",
       "      <th>count</th>\n",
       "      <td>1969.000000</td>\n",
       "    </tr>\n",
       "    <tr>\n",
       "      <th>mean</th>\n",
       "      <td>0.601320</td>\n",
       "    </tr>\n",
       "    <tr>\n",
       "      <th>std</th>\n",
       "      <td>0.489751</td>\n",
       "    </tr>\n",
       "    <tr>\n",
       "      <th>min</th>\n",
       "      <td>0.000000</td>\n",
       "    </tr>\n",
       "    <tr>\n",
       "      <th>25%</th>\n",
       "      <td>0.000000</td>\n",
       "    </tr>\n",
       "    <tr>\n",
       "      <th>50%</th>\n",
       "      <td>1.000000</td>\n",
       "    </tr>\n",
       "    <tr>\n",
       "      <th>75%</th>\n",
       "      <td>1.000000</td>\n",
       "    </tr>\n",
       "    <tr>\n",
       "      <th>max</th>\n",
       "      <td>1.000000</td>\n",
       "    </tr>\n",
       "  </tbody>\n",
       "</table>\n",
       "</div>"
      ],
      "text/plain": [
       "             label\n",
       "count  1969.000000\n",
       "mean      0.601320\n",
       "std       0.489751\n",
       "min       0.000000\n",
       "25%       0.000000\n",
       "50%       1.000000\n",
       "75%       1.000000\n",
       "max       1.000000"
      ]
     },
     "execution_count": 10,
     "metadata": {},
     "output_type": "execute_result"
    }
   ],
   "source": [
    "df_train.describe()"
   ]
  },
  {
   "cell_type": "code",
   "execution_count": 11,
   "metadata": {},
   "outputs": [
    {
     "data": {
      "text/html": [
       "<div>\n",
       "<style scoped>\n",
       "    .dataframe tbody tr th:only-of-type {\n",
       "        vertical-align: middle;\n",
       "    }\n",
       "\n",
       "    .dataframe tbody tr th {\n",
       "        vertical-align: top;\n",
       "    }\n",
       "\n",
       "    .dataframe thead th {\n",
       "        text-align: right;\n",
       "    }\n",
       "</style>\n",
       "<table border=\"1\" class=\"dataframe\">\n",
       "  <thead>\n",
       "    <tr style=\"text-align: right;\">\n",
       "      <th></th>\n",
       "      <th>label</th>\n",
       "    </tr>\n",
       "  </thead>\n",
       "  <tbody>\n",
       "    <tr>\n",
       "      <th>count</th>\n",
       "      <td>421.000000</td>\n",
       "    </tr>\n",
       "    <tr>\n",
       "      <th>mean</th>\n",
       "      <td>0.610451</td>\n",
       "    </tr>\n",
       "    <tr>\n",
       "      <th>std</th>\n",
       "      <td>0.488228</td>\n",
       "    </tr>\n",
       "    <tr>\n",
       "      <th>min</th>\n",
       "      <td>0.000000</td>\n",
       "    </tr>\n",
       "    <tr>\n",
       "      <th>25%</th>\n",
       "      <td>0.000000</td>\n",
       "    </tr>\n",
       "    <tr>\n",
       "      <th>50%</th>\n",
       "      <td>1.000000</td>\n",
       "    </tr>\n",
       "    <tr>\n",
       "      <th>75%</th>\n",
       "      <td>1.000000</td>\n",
       "    </tr>\n",
       "    <tr>\n",
       "      <th>max</th>\n",
       "      <td>1.000000</td>\n",
       "    </tr>\n",
       "  </tbody>\n",
       "</table>\n",
       "</div>"
      ],
      "text/plain": [
       "            label\n",
       "count  421.000000\n",
       "mean     0.610451\n",
       "std      0.488228\n",
       "min      0.000000\n",
       "25%      0.000000\n",
       "50%      1.000000\n",
       "75%      1.000000\n",
       "max      1.000000"
      ]
     },
     "execution_count": 11,
     "metadata": {},
     "output_type": "execute_result"
    }
   ],
   "source": [
    "df_valid.describe()"
   ]
  },
  {
   "cell_type": "code",
   "execution_count": 12,
   "metadata": {},
   "outputs": [
    {
     "data": {
      "text/html": [
       "<div>\n",
       "<style scoped>\n",
       "    .dataframe tbody tr th:only-of-type {\n",
       "        vertical-align: middle;\n",
       "    }\n",
       "\n",
       "    .dataframe tbody tr th {\n",
       "        vertical-align: top;\n",
       "    }\n",
       "\n",
       "    .dataframe thead th {\n",
       "        text-align: right;\n",
       "    }\n",
       "</style>\n",
       "<table border=\"1\" class=\"dataframe\">\n",
       "  <thead>\n",
       "    <tr style=\"text-align: right;\">\n",
       "      <th></th>\n",
       "      <th>label</th>\n",
       "    </tr>\n",
       "  </thead>\n",
       "  <tbody>\n",
       "    <tr>\n",
       "      <th>count</th>\n",
       "      <td>423.000000</td>\n",
       "    </tr>\n",
       "    <tr>\n",
       "      <th>mean</th>\n",
       "      <td>0.541371</td>\n",
       "    </tr>\n",
       "    <tr>\n",
       "      <th>std</th>\n",
       "      <td>0.498876</td>\n",
       "    </tr>\n",
       "    <tr>\n",
       "      <th>min</th>\n",
       "      <td>0.000000</td>\n",
       "    </tr>\n",
       "    <tr>\n",
       "      <th>25%</th>\n",
       "      <td>0.000000</td>\n",
       "    </tr>\n",
       "    <tr>\n",
       "      <th>50%</th>\n",
       "      <td>1.000000</td>\n",
       "    </tr>\n",
       "    <tr>\n",
       "      <th>75%</th>\n",
       "      <td>1.000000</td>\n",
       "    </tr>\n",
       "    <tr>\n",
       "      <th>max</th>\n",
       "      <td>1.000000</td>\n",
       "    </tr>\n",
       "  </tbody>\n",
       "</table>\n",
       "</div>"
      ],
      "text/plain": [
       "            label\n",
       "count  423.000000\n",
       "mean     0.541371\n",
       "std      0.498876\n",
       "min      0.000000\n",
       "25%      0.000000\n",
       "50%      1.000000\n",
       "75%      1.000000\n",
       "max      1.000000"
      ]
     },
     "execution_count": 12,
     "metadata": {},
     "output_type": "execute_result"
    }
   ],
   "source": [
    "df_test.describe()"
   ]
  },
  {
   "cell_type": "markdown",
   "metadata": {},
   "source": [
    "## ベンチマークの作成\n",
    "複雑な機械学習モデルを作成する前に、シンプルなモデルを構築し、ベンチマークとして使いましょう。ベンチマークモデルの入力には、各文を単語列に分割し、各単語に対するTF-IDF値を計算したベクトルを使います。また、分類器にはロジスティック回帰を使います。ロジスティック回帰はシンプルながら強力なモデルであり、ベンチマークのモデルを構築する際によく使われます。評価はF1で行いましょう。\n",
    "\n",
    "まずは、必要なPythonモジュールをインポートします。"
   ]
  },
  {
   "cell_type": "code",
   "execution_count": 13,
   "metadata": {},
   "outputs": [],
   "source": [
    "from janome.tokenizer import Tokenizer\n",
    "from sklearn.feature_extraction.text import TfidfVectorizer\n",
    "from sklearn.linear_model import LogisticRegression\n",
    "from sklearn.metrics import classification_report"
   ]
  },
  {
   "cell_type": "markdown",
   "metadata": {},
   "source": [
    "次に入力の各文をTF-IDFのベクトルに変換します。入力文の分かち書きには形態素解析器`Janome`を使い、TF-IDFの計算には`TfidfVectorizer`を使うことにしましょう。"
   ]
  },
  {
   "cell_type": "code",
   "execution_count": 14,
   "metadata": {},
   "outputs": [],
   "source": [
    "tokenizer = Tokenizer()\n",
    "t = lambda text: tokenizer.tokenize(text, wakati=True)\n",
    "\n",
    "vectorizer = TfidfVectorizer(tokenizer=t, analyzer='word')\n",
    "\n",
    "X_train = vectorizer.fit_transform(df_train['sent'])\n",
    "X_valid = vectorizer.transform(df_valid['sent'])\n",
    "y_train = df_train['label']\n",
    "y_valid = df_valid['label']"
   ]
  },
  {
   "cell_type": "markdown",
   "metadata": {},
   "source": [
    "最後に、用意したデータを使って分類器に学習させましょう。分類器には`LogisticRegression`を使います。"
   ]
  },
  {
   "cell_type": "code",
   "execution_count": 15,
   "metadata": {},
   "outputs": [
    {
     "data": {
      "text/plain": [
       "LogisticRegression(C=1.0, class_weight=None, dual=False, fit_intercept=True,\n",
       "          intercept_scaling=1, max_iter=100, multi_class='ovr', n_jobs=1,\n",
       "          penalty='l2', random_state=None, solver='liblinear', tol=0.0001,\n",
       "          verbose=0, warm_start=False)"
      ]
     },
     "execution_count": 15,
     "metadata": {},
     "output_type": "execute_result"
    }
   ],
   "source": [
    "clf = LogisticRegression()\n",
    "clf.fit(X_train, y_train)"
   ]
  },
  {
   "cell_type": "code",
   "execution_count": 16,
   "metadata": {},
   "outputs": [
    {
     "name": "stdout",
     "output_type": "stream",
     "text": [
      "             precision    recall  f1-score   support\n",
      "\n",
      "          0       0.91      0.84      0.88       164\n",
      "          1       0.90      0.95      0.93       257\n",
      "\n",
      "avg / total       0.91      0.91      0.91       421\n",
      "\n"
     ]
    }
   ],
   "source": [
    "y_pred = clf.predict(X_valid)\n",
    "print(classification_report(y_valid, y_pred))"
   ]
  },
  {
   "cell_type": "markdown",
   "metadata": {},
   "source": [
    "シンプルな単語ベースのモデルでは、F1で0.80という性能になりました。\n",
    "\n",
    "これはあまり良くない性能です。どうしたら改善できるでしょうか？\n",
    "\n",
    "原因を探ってみましょう。まずは学習曲線を書くための関数を定義します。"
   ]
  },
  {
   "cell_type": "code",
   "execution_count": 17,
   "metadata": {},
   "outputs": [],
   "source": [
    "import numpy as np\n",
    "import matplotlib.pyplot as plt\n",
    "from sklearn.model_selection import learning_curve\n",
    "from sklearn.model_selection import ShuffleSplit\n",
    "\n",
    "\n",
    "def plot_learning_curve(estimator, title, X, y, ylim=None, cv=None,\n",
    "                        n_jobs=-1, train_sizes=np.linspace(.1, 1.0, 5)):\n",
    "    plt.figure()\n",
    "    plt.title(title)\n",
    "    if ylim is not None:\n",
    "        plt.ylim(*ylim)\n",
    "    plt.xlabel(\"Training examples\")\n",
    "    plt.ylabel(\"Score\")\n",
    "    train_sizes, train_scores, test_scores = learning_curve(\n",
    "        estimator, X, y, cv=cv, n_jobs=n_jobs, train_sizes=train_sizes)\n",
    "    train_scores_mean = np.mean(train_scores, axis=1)\n",
    "    train_scores_std = np.std(train_scores, axis=1)\n",
    "    test_scores_mean = np.mean(test_scores, axis=1)\n",
    "    test_scores_std = np.std(test_scores, axis=1)\n",
    "    plt.grid()\n",
    "\n",
    "    plt.fill_between(train_sizes, train_scores_mean - train_scores_std,\n",
    "                     train_scores_mean + train_scores_std, alpha=0.1,\n",
    "                     color=\"r\")\n",
    "    plt.fill_between(train_sizes, test_scores_mean - test_scores_std,\n",
    "                     test_scores_mean + test_scores_std, alpha=0.1, color=\"g\")\n",
    "    plt.plot(train_sizes, train_scores_mean, 'o-', color=\"r\",\n",
    "             label=\"Training score\")\n",
    "    plt.plot(train_sizes, test_scores_mean, 'o-', color=\"g\",\n",
    "             label=\"Cross-validation score\")\n",
    "\n",
    "    plt.legend(loc=\"best\")\n",
    "\n",
    "    return plt"
   ]
  },
  {
   "cell_type": "markdown",
   "metadata": {},
   "source": [
    "学習曲線を描画すると以下のようになります。"
   ]
  },
  {
   "cell_type": "code",
   "execution_count": 18,
   "metadata": {},
   "outputs": [
    {
     "data": {
      "image/png": "[encoded data removed]",
      "text/plain": [
       "<matplotlib.figure.Figure at 0x115236908>"
      ]
     },
     "metadata": {},
     "output_type": "display_data"
    }
   ],
   "source": [
    "title = \"Learning Curves\"\n",
    "cv = ShuffleSplit(n_splits=5, test_size=0.2, random_state=0)\n",
    "clf = LogisticRegression()\n",
    "plot_learning_curve(clf, title, X_train, y_train, cv=cv)\n",
    "\n",
    "plt.show()"
   ]
  },
  {
   "cell_type": "markdown",
   "metadata": {},
   "source": [
    "完全に過学習しています。原因としては、データ数に対して特徴数が大きすぎることや正則化の強さが十分でないことが考えられます。実際に特徴数を表示してみましょう。特徴数を表示するためには、`vectorizer`の`get_feature_names`メソッドを呼び出します。"
   ]
  },
  {
   "cell_type": "code",
   "execution_count": 19,
   "metadata": {},
   "outputs": [
    {
     "data": {
      "text/plain": [
       "4874"
      ]
     },
     "execution_count": 19,
     "metadata": {},
     "output_type": "execute_result"
    }
   ],
   "source": [
    "len(vectorizer.get_feature_names())"
   ]
  },
  {
   "cell_type": "markdown",
   "metadata": {},
   "source": [
    "正則化については、LogisticRegressionではデフォルトではL2正則化を行っていました。しかし、結果をみると正則化しているにもかかわらず、過学習をしています。この結果は正則化の強さが十分ではないことを示唆しています。\n",
    "\n",
    "過学習を抑えるために、正則化の強さを調整しても良いのですが、今回はL2正則化の代わりに`L1`正則化を行うことにしましょう。L1正則化をすることで、特徴選択の効果が期待できます。これは実質的には単語数を削減したモデルを作成することに相当するはずです。"
   ]
  },
  {
   "cell_type": "code",
   "execution_count": 20,
   "metadata": {},
   "outputs": [
    {
     "name": "stdout",
     "output_type": "stream",
     "text": [
      "             precision    recall  f1-score   support\n",
      "\n",
      "          0       0.92      0.88      0.90       164\n",
      "          1       0.93      0.95      0.94       257\n",
      "\n",
      "avg / total       0.93      0.93      0.93       421\n",
      "\n"
     ]
    }
   ],
   "source": [
    "clf = LogisticRegression(penalty='l1')\n",
    "clf.fit(X_train, y_train)\n",
    "y_pred = clf.predict(X_valid)\n",
    "print(classification_report(y_valid, y_pred))"
   ]
  },
  {
   "cell_type": "markdown",
   "metadata": {},
   "source": [
    "L1正則化を行うことで、性能が向上しました。では特徴選択できているのか確認してみましょう。それには、分類器の重みを確認してあげれば良さそうです。分類器の重みは、`coef_`属性の中身を見れば確認することができます。\n",
    "\n",
    "では実際に、分類器の重みが0の個数を確認してみましょう。"
   ]
  },
  {
   "cell_type": "code",
   "execution_count": 21,
   "metadata": {},
   "outputs": [
    {
     "name": "stdout",
     "output_type": "stream",
     "text": [
      "4817 / 4874\n"
     ]
    }
   ],
   "source": [
    "weights = clf.coef_[0]\n",
    "num_zero_weight = (weights == 0).sum()\n",
    "print('{} / {}'.format(num_zero_weight, len(weights)))"
   ]
  },
  {
   "cell_type": "markdown",
   "metadata": {},
   "source": [
    "結果を見ると、ほとんどの重みが0という結果になりました。では重みが0でない特徴とはどのような特徴なのでしょうか?確認してみましょう。"
   ]
  },
  {
   "cell_type": "code",
   "execution_count": 22,
   "metadata": {},
   "outputs": [
    {
     "name": "stdout",
     "output_type": "stream",
     "text": [
      "1\t0.5112467821868888\n",
      "しかしながら\t-1.6743482126610958\n",
      "ず\t-1.5043884829971665\n",
      "の\t-0.9654919783758908\n",
      "一方\t-0.0740333929910919\n",
      "上回り\t2.8043567275971824\n",
      "上回る\t1.7317813183472348\n",
      "下回っ\t-0.2491822333814007\n",
      "下回り\t-3.1126784961097727\n",
      "下回る\t-3.989914865011984\n",
      "伴う\t-1.1320869735362558\n",
      "伸び悩み\t-3.1151609820683492\n",
      "低下\t-0.41389459983708465\n",
      "低調\t-3.3099486864206065\n",
      "低迷\t-8.429917479385999\n",
      "価格\t-1.7019007756498916\n",
      "先行き\t-0.16214357697511497\n",
      "利益\t1.0196045141419225\n",
      "前年\t-0.027989905101756127\n",
      "力強\t-1.9598737093975211\n",
      "千\t-0.16480703025344268\n",
      "厳しい\t-6.573922414146561\n",
      "向け\t-0.29577278138056773\n",
      "回復\t5.603797402379112\n",
      "堅調\t6.429438821818569\n",
      "増\t17.761434075243123\n",
      "増加\t6.441448936579167\n",
      "増収\t5.2461354668958515\n",
      "増益\t3.2729352214206986\n",
      "大きく\t-0.7344473808176549\n",
      "好調\t7.899181774333481\n",
      "影響\t-2.254872937235749\n",
      "手数料\t-1.281201173732068\n",
      "拡大\t1.598111869888781\n",
      "持ち直し\t1.758890384195293\n",
      "推移\t2.19998163961629\n",
      "損失\t-2.159018468916378\n",
      "改善\t4.336528066667296\n",
      "最高\t0.9950754316752473\n",
      "業務\t0.7199731951280497\n",
      "業界\t-0.4748324898069198\n",
      "活動\t0.34599531099171393\n",
      "減\t-20.999121137091127\n",
      "減収\t-7.563418492401035\n",
      "減少\t-13.058673441197614\n",
      "減益\t-8.625922512508758\n",
      "状況\t-5.243226239059159\n",
      "環境\t0.840371788635447\n",
      "競争\t-5.178983711450103\n",
      "緩やか\t2.0563989823798967\n",
      "自動車\t0.5653927456555412\n",
      "費\t-1.6874013307582667\n",
      "費用\t-7.8665238980362995\n",
      "金\t-0.1286921140810772\n",
      "雇用\t0.4688349915708348\n",
      "順調\t2.5249367915429484\n",
      "高\t0.6992586285014931\n"
     ]
    }
   ],
   "source": [
    "for feature, weight in zip(vectorizer.get_feature_names(), weights):\n",
    "    if weight == 0:\n",
    "        continue\n",
    "    print('{}\\t{}'.format(feature, weight))"
   ]
  },
  {
   "cell_type": "markdown",
   "metadata": {},
   "source": [
    "以上を見ると、`増`とか`減`といった単語が分類に大きく効いてくることがわかります。\n",
    "\n",
    "では、最後に再び学習曲線を確認してみましょう。"
   ]
  },
  {
   "cell_type": "code",
   "execution_count": 23,
   "metadata": {},
   "outputs": [
    {
     "data": {
      "image/png": "[encoded data removed]",
      "text/plain": [
       "<matplotlib.figure.Figure at 0x1151ddda0>"
      ]
     },
     "metadata": {},
     "output_type": "display_data"
    }
   ],
   "source": [
    "title = \"Learning Curves\"\n",
    "cv = ShuffleSplit(n_splits=5, test_size=0.2, random_state=0)\n",
    "clf = LogisticRegression(penalty='l1')\n",
    "plot_learning_curve(clf, title, X_train, y_train, cv=cv)\n",
    "\n",
    "plt.show()"
   ]
  },
  {
   "cell_type": "markdown",
   "metadata": {},
   "source": [
    "学習と検証の性能差が縮まっていることがわかります。過学習はしていませんが、少々アンダーフィット気味です。これに対しては、正則化の強さを変化させたり、より複雑なモデルを使うといった対応をすることで性能改善します。\n",
    "\n",
    "みなさんも、自分なりの仮説を立てて性能改善に取り組んでみましょう。"
   ]
  },
  {
   "cell_type": "code",
   "execution_count": null,
   "metadata": {},
   "outputs": [],
   "source": []
  }
 ],
 "metadata": {
  "kernelspec": {
   "display_name": "Python 3",
   "language": "python",
   "name": "python3"
  },
  "language_info": {
   "codemirror_mode": {
    "name": "ipython",
    "version": 3
   },
   "file_extension": ".py",
   "mimetype": "text/x-python",
   "name": "python",
   "nbconvert_exporter": "python",
   "pygments_lexer": "ipython3",
   "version": "3.6.2"
  }
 },
 "nbformat": 4,
 "nbformat_minor": 1
}
